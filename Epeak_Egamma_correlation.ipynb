{
 "cells": [
  {
   "metadata": {},
   "cell_type": "markdown",
   "source": [
    "# $E_\\text{peak} - E_\\gamma$ correlation\n",
    "In this notebook we are trying to do a similar thing as in [Epeak_Eiso_correlation.ipynb](https://github.com/joanalnu/OAB-INAF/blob/main/Epeak_Eiso_correlation.ipynb), where we computed the relation between $E_{\\text{peak}}$ and $E_\\text{iso}$. However, we know from the jet break, i.e. the jet break time ($t_\\text{break}$, when $\\theta_\\text{jet} \\sim \\theta_\\Gamma \\sim 1/\\Gamma$) that GRBs haven't spherical outflows but rather a jet (i.e. collimated ejection). Therefore, we want to correct the isotropic equivalent energy $E_\\text{iso}$ used in the previous notebook and use the collimation-corrected energy $E_\\gamma$. The collimation factor $f$ is defined by\n",
    "$$f = 1 - \\cos\\theta_\\text{jet}$$\n",
    "\n",
    "This equation derives from the definition of the solid angle (see notes), with which actually we can derive a collimation factor begin\n",
    "$$f = \\Omega_\\text{jet}/\\Omega_\\text{sphere} = \\frac{1-\\cos\\theta_\\text{jet}}{2}$$\n",
    ", where $\\Omega$ is the solid angle. However, since the half-opening angle of the jet is very small ($\\theta_\\text{jet} < 5\\ \\text{deg}$) one can approximate as $1 - \\cos\\theta \\sim \\theta^2/2$."
   ],
   "id": "e39cf42077a3459f"
  },
  {
   "metadata": {},
   "cell_type": "markdown",
   "source": "I don't have measurements for the $\\theta_\\text{jet}$ angle yet, since the table I got from $\\textit{Ghirlanda et al. 2008}$ does not contain that column. However, we can begin drafting the code using synthetic data. With that aim we're going to define a list of jet half-opening angles as using `np.random.unifrom()` for the interval $\\theta_\\text{jet} \\in \\left[0, 0.08 \\right]$ ($3\\ \\text{deg} \\sim 0.05\\ \\text{rad}$)",
   "id": "81ef292bc9e41f87"
  },
  {
   "metadata": {},
   "cell_type": "markdown",
   "source": "_**from older notebook**_: The correlation can also be done between $E_{peak}$ and $E_\\gamma$, which is the collimation-corrected energy, where $E_\\gamma = E_{iso} \\cdot (1 - cos\\theta_{jet})$. Where $\\theta_{jet}$ is derived from the jet break time $T_{\\text{break}}$, which creates a broken power-law in the flux-time plot when $\\theta_j \\sim \\theta_\\Gamma \\sim 1/\\Gamma$.",
   "id": "3a2aa364c2efb355"
  },
  {
   "metadata": {},
   "cell_type": "markdown",
   "source": [
    "_**from another notebook:**_ Correlation between $E_{peak}$ (spectral peak energy from $\\nu F_\\nu - \\nu$ diagram) and $E_{iso}$ (equivalent isotropic energy).\n",
    "Since the scatter plot is logarithmic, the correlation will be a power-law:\n",
    "$$E_{peak} = m \\cdot E_{iso}^q$$\n",
    "where $m$ is the normalization factor and $q$ the slope.\n",
    "The correlation can also be done between $E_{peak}$ and $E_\\gamma$, which is the collimation-corrected energy, where $E_\\gamma = E_{iso} \\cdot (1 - cos\\theta_{jet})$. Where $\\theta_{jet}$ is derived from the jet break time $T_{\\text{break}}$, which creates a broken power-law in the flux-time plot when $\\theta_j \\sim \\theta_\\Gamma \\sim 1/\\Gamma$."
   ],
   "id": "5a1863e1cd27f16c"
  },
  {
   "cell_type": "code",
   "id": "initial_id",
   "metadata": {
    "collapsed": true,
    "ExecuteTime": {
     "end_time": "2025-06-20T10:46:42.507699Z",
     "start_time": "2025-06-20T10:46:41.723039Z"
    }
   },
   "source": [
    "# import required libraries and define data-reading-related functions\n",
    "import numpy as np\n",
    "import pandas as pd\n",
    "import matplotlib.pyplot as plt\n",
    "\n",
    "def get_float(col):\n",
    "    return np.array([float(base) * 10**float(exponent) for val in col for base, exponent in [str(val).split('e')]])\n",
    "\n",
    "# read data\n",
    "df = pd.read_csv('table.csv')\n",
    "Epeak = df['Epeak']\n",
    "Epeak_err = df['Epeak_err']\n",
    "Eiso = get_float(df['Eiso'])\n",
    "Eiso_err = get_float(df['Eiso_err'])\n",
    "theta = np.random.uniform(0, 0.05, len(Eiso)) # create random synthetic data within bounds\n",
    "theta_err = np.random.uniform(2.5e-4, 7.5e-4, len(Eiso)) # creat random error data within 1/100 of theta values"
   ],
   "outputs": [],
   "execution_count": 1
  },
  {
   "metadata": {},
   "cell_type": "markdown",
   "source": "## TODO: add errors to $\\theta_\\text{jet}$ and to $E_\\gamma$",
   "id": "6ad86f838c454063"
  },
  {
   "metadata": {
    "ExecuteTime": {
     "end_time": "2025-06-20T10:46:42.730622Z",
     "start_time": "2025-06-20T10:46:42.525215Z"
    }
   },
   "cell_type": "code",
   "source": [
    "Egamma = Eiso * (1-np.cos(theta))\n",
    "Egamma_err = np.sqrt((1-np.cos(theta))*(Eiso_err**2) + (Eiso*np.sin(theta))*(theta_err**2))\n",
    "\n",
    "plt.figure()\n",
    "plt.errorbar(Eiso, Epeak, xerr=Eiso_err, yerr=Epeak_err, fmt='.', color='b', label=r'$E_\\text{iso}$')\n",
    "plt.errorbar(Egamma, Epeak, yerr=Epeak_err, fmt='.', color='r', label=r'$E_\\gamma$')\n",
    "\n",
    "plt.loglog()\n",
    "plt.xlabel(r'$E$ [ergs]')\n",
    "plt.ylabel(r'$E_\\text{peak}$ [keV]')\n",
    "plt.legend()"
   ],
   "id": "dfdc3423296aa26e",
   "outputs": [
    {
     "data": {
      "text/plain": [
       "<matplotlib.legend.Legend at 0x108680440>"
      ]
     },
     "execution_count": 2,
     "metadata": {},
     "output_type": "execute_result"
    },
    {
     "data": {
      "text/plain": [
       "<Figure size 640x480 with 1 Axes>"
      ],
      "image/png": "[encoded data removed]"
     },
     "metadata": {},
     "output_type": "display_data"
    }
   ],
   "execution_count": 2
  },
  {
   "metadata": {},
   "cell_type": "markdown",
   "source": [
    "Next, similarly to the previous notebook, we'll procede to derive two correlations:\n",
    "$$\n",
    "\\begin{array}\\\\\n",
    "    E_\\text{peak} = a \\cdot E_\\text{iso}^b \\\\\n",
    "    E_\\text{peak} = c \\cdot E_\\gamma^d \\\\\n",
    "\\end{array}\n",
    "$$\n",
    "The goal is to compare the parameters values for the best fit of the correlations and compare how correcting for the jet collimation has an effect. As in the above mentioned notebook, we'll use a least squares approach using $\\chi^\"$ defined as\n",
    "$$\\chi*^2 = \\sum_{i=1} ^n \\frac{r_i ^2}{\\sigma_{r, i} ^2}$$,\n",
    "where $r_i^2$ is the square of the model-to-computed values and $\\sigma_{r, i}^2$ is the total variance of the residuals, also accounting for the errors, i.e. $\\sigma_{r, i}^2 = \\sigma_{E_\\text{peak}}^2 + \\left[\\sigma_{E_\\text{iso}} \\left(-abE_\\text{iso, i}^b\\right)\\right]^2$, where the parameters may be subtituted by the homologous for the $E_\\gamma$ relation."
   ],
   "id": "e786ef3874514475"
  },
  {
   "metadata": {
    "ExecuteTime": {
     "end_time": "2025-06-20T10:46:42.737295Z",
     "start_time": "2025-06-20T10:46:42.734545Z"
    }
   },
   "cell_type": "code",
   "source": [
    "def GoF(w,z,x,xerr,y=df['Epeak'],yerr=df['Epeak_err']):\n",
    "    \"\"\"\n",
    "    Returns the chi-squared statistic test accounting for the errors.\n",
    "    :param w: paramter 1 (normaliation factor)\n",
    "    :param z: parameter 2 (power-law slope)\n",
    "    :param x: x-values (Eiso or Egamma)\n",
    "    :param y: y-values (Epeak)\n",
    "    :param xerr: errors for x-values\n",
    "    :param yerr: errors for y-values (Epeak_err)\n",
    "    :return: chi-squared statistic test\n",
    "    \"\"\"\n",
    "\n",
    "    total_variance = np.zeros(len(xerr))\n",
    "    total_variance += yerr**2\n",
    "    total_variance += ((-w*z*x**(z-1))*xerr)**2\n",
    "\n",
    "\n",
    "    model = w * x**z\n",
    "    return np.sum(((y-model)**2)/(total_variance))"
   ],
   "id": "e2a777a3a4ce9413",
   "outputs": [],
   "execution_count": 3
  },
  {
   "metadata": {},
   "cell_type": "markdown",
   "source": "Now we can go through the different models.",
   "id": "289e5d3f234bbe2"
  },
  {
   "metadata": {
    "ExecuteTime": {
     "end_time": "2025-06-20T10:46:49.224881Z",
     "start_time": "2025-06-20T10:46:42.742414Z"
    }
   },
   "cell_type": "code",
   "source": [
    "a = np.linspace(10**(-22), 10**(-25), 100)\n",
    "b = np.linspace(0.0, 1.0,100)\n",
    "c = np.linspace(10**(-22), 10**(-25), 100)\n",
    "d = np.linspace(0.0, 1.0, 100)\n",
    "\n",
    "Giso = np.zeros([len(a), len(b)])\n",
    "Ggam = np.zeros([len(c), len(d)])\n",
    "\n",
    "for i in range(len(a)): # since (a,c) and (b,d) have the same length, we can use a single iterator\n",
    "    for j in range(len(c)):\n",
    "        Giso[i,j] = GoF(a[i],b[j],x=Eiso,xerr=Eiso_err)\n",
    "        Ggam[i,j] = GoF(c[i],d[j],x=Egamma,xerr=Egamma_err)\n",
    "\n",
    "fig, ax = plt.subplots(1,2)\n",
    "ax[0].contourf(a,b,np.log10(Giso))\n",
    "ax[0].colorbar()\n",
    "ax[0].set_xlabel(r'$a$')\n",
    "ax[0].set_ylabel(r'$b$')\n",
    "ax[0].set_title(r'$G_\\text{iso}$')\n",
    "\n",
    "ax[1].contourf(c,d,np.log10(Ggam))\n",
    "ax[1].colorbar()\n",
    "ax[1].set_xlabel(r'$c$')\n",
    "ax[1].set_ylabel(r'$d$')\n",
    "ax[1].set_title(r'$G_\\text{gam}$')"
   ],
   "id": "665cabab5081b3a1",
   "outputs": [
    {
     "ename": "AttributeError",
     "evalue": "'Axes' object has no attribute 'colorbar'",
     "output_type": "error",
     "traceback": [
      "\u001B[31m---------------------------------------------------------------------------\u001B[39m",
      "\u001B[31mAttributeError\u001B[39m                            Traceback (most recent call last)",
      "\u001B[36mCell\u001B[39m\u001B[36m \u001B[39m\u001B[32mIn[4]\u001B[39m\u001B[32m, line 16\u001B[39m\n\u001B[32m     14\u001B[39m fig, ax = plt.subplots(\u001B[32m1\u001B[39m,\u001B[32m2\u001B[39m)\n\u001B[32m     15\u001B[39m ax[\u001B[32m0\u001B[39m].contourf(a,b,np.log10(Giso))\n\u001B[32m---> \u001B[39m\u001B[32m16\u001B[39m \u001B[43max\u001B[49m\u001B[43m[\u001B[49m\u001B[32;43m0\u001B[39;49m\u001B[43m]\u001B[49m\u001B[43m.\u001B[49m\u001B[43mcolorbar\u001B[49m()\n\u001B[32m     17\u001B[39m ax[\u001B[32m0\u001B[39m].set_xlabel(\u001B[33mr\u001B[39m\u001B[33m'\u001B[39m\u001B[33m$a$\u001B[39m\u001B[33m'\u001B[39m)\n\u001B[32m     18\u001B[39m ax[\u001B[32m0\u001B[39m].set_ylabel(\u001B[33mr\u001B[39m\u001B[33m'\u001B[39m\u001B[33m$b$\u001B[39m\u001B[33m'\u001B[39m)\n",
      "\u001B[31mAttributeError\u001B[39m: 'Axes' object has no attribute 'colorbar'"
     ]
    },
    {
     "data": {
      "text/plain": [
       "<Figure size 640x480 with 2 Axes>"
      ],
      "image/png": "[encoded data removed]"
     },
     "metadata": {},
     "output_type": "display_data"
    }
   ],
   "execution_count": 4
  },
  {
   "metadata": {},
   "cell_type": "code",
   "outputs": [],
   "execution_count": null,
   "source": "",
   "id": "204dba7a1edf87c9"
  }
 ],
 "metadata": {
  "kernelspec": {
   "display_name": "Python 3",
   "language": "python",
   "name": "python3"
  },
  "language_info": {
   "codemirror_mode": {
    "name": "ipython",
    "version": 2
   },
   "file_extension": ".py",
   "mimetype": "text/x-python",
   "name": "python",
   "nbconvert_exporter": "python",
   "pygments_lexer": "ipython2",
   "version": "2.7.6"
  }
 },
 "nbformat": 4,
 "nbformat_minor": 5
}
