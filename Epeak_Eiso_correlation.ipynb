{
 "cells": [
  {
   "cell_type": "markdown",
   "id": "20fe4089855e7abd",
   "metadata": {},
   "source": "# $E_{peak} - E_{iso}$ correlation"
  },
  {
   "cell_type": "markdown",
   "id": "a920b0a7958b6a14",
   "metadata": {},
   "source": [
    "The correlation between $E_\\text{peak}$ (spectral peak energy from the $\\nu F_\\nu \\text{ vs. } \\nu$ diagram) and $E_\\text{iso}$ (equivalent isotropic energy, which derives from the flux multiplied by time and distance: $E_\\text{iso} = 4\\pi D_L^2Ft/(1+z) = 4\\pi D_L^2S/(1+z)$, where the fluence is $S=\\int Fdt$) is one of the relations proposed to have an application for cosmology, i.e. for constraining cosmological parameters, since the luminosity distance needed to compute $E_\\text{iso}$ depends on a specific cosmology $D_L(z; H_0, \\Omega)$. Therefore, the values for the free parameters of this fit will change for different cosmologies, since this has an effect the x-axis position of the scatter. However, we will explore this effect and try to constrain cosmological parameters later in [Epeak_Eiso_cosmology.ipynb](https://github.com/joanalnu/OAB-INAF/blob/main/Epeak_Eiso_cosmology.ipynb).\n",
    "\n",
    "To work with $E_\\text{peak}$ and $E_\\text{iso}$ we will use logarithmic scaling, that means that we'll simplify the mathematical complexity by taking the logarithm on the data and the power-law model.\n",
    "$$\n",
    "\\begin{align*}\n",
    "    E_\\text{peak} &= A \\cdot E_\\text{iso}^m \\\\\n",
    "    \\log_{10} (E_\\text{peak}) &= \\log_{10}(A) + \\log_{10} (E_\\text{iso}) \\times m \\\\\n",
    "    y &= k + mx\n",
    "\\end{align*}\n",
    "$$"
   ]
  },
  {
   "metadata": {
    "ExecuteTime": {
     "end_time": "2025-06-30T09:14:18.908900Z",
     "start_time": "2025-06-30T09:14:17.897331Z"
    }
   },
   "cell_type": "code",
   "source": [
    "from http.cookiejar import MISSING_FILENAME_TEXT\n",
    "\n",
    "import numpy as np\n",
    "import pandas as pd\n",
    "import matplotlib.pyplot as plt"
   ],
   "id": "f7fc84dc0633fc42",
   "outputs": [],
   "execution_count": 2
  },
  {
   "cell_type": "code",
   "id": "d0c7e841922259f0",
   "metadata": {
    "ExecuteTime": {
     "end_time": "2025-06-30T09:14:18.926044Z",
     "start_time": "2025-06-30T09:14:18.915345Z"
    }
   },
   "source": "df = pd.read_csv('table.csv') # read the data from Ghirlanda et al. 2008",
   "outputs": [],
   "execution_count": 3
  },
  {
   "metadata": {},
   "cell_type": "markdown",
   "source": "Pandas reads the `'Eiso'` and `'Eiso_err'` columns as `string`, so passing the lists through `get_float()` returns the correct variable type.",
   "id": "d22cd6c1db1319fa"
  },
  {
   "metadata": {
    "ExecuteTime": {
     "end_time": "2025-06-30T09:14:18.932629Z",
     "start_time": "2025-06-30T09:14:18.930326Z"
    }
   },
   "cell_type": "code",
   "source": [
    "def get_float(col):\n",
    "    return np.array([float(base) * 10**float(exponent) for val in col for base, exponent in [str(val).split('e')]])"
   ],
   "id": "7d0bdb4f019f593b",
   "outputs": [],
   "execution_count": 4
  },
  {
   "metadata": {},
   "cell_type": "markdown",
   "source": "Let's plot the data to see its distribution.",
   "id": "35f55a60105736be"
  },
  {
   "metadata": {
    "ExecuteTime": {
     "end_time": "2025-06-30T09:14:19.093073Z",
     "start_time": "2025-06-30T09:14:18.942611Z"
    }
   },
   "cell_type": "code",
   "source": [
    "Epeak = np.log10(df['Epeak']) # keV\n",
    "Eiso = np.log10(get_float(df['Eiso'])) # ergs\n",
    "\n",
    "plt.figure()\n",
    "plt.scatter(Eiso, Epeak)\n",
    "\n",
    "plt.xlabel(r'$log(E_{\\text{iso}})$')\n",
    "plt.ylabel(r'$log(E_{\\text{peak}})$')"
   ],
   "id": "7e2481247592dbf6",
   "outputs": [
    {
     "data": {
      "text/plain": [
       "Text(0, 0.5, '$log(E_{\\\\text{peak}})$')"
      ]
     },
     "execution_count": 5,
     "metadata": {},
     "output_type": "execute_result"
    },
    {
     "data": {
      "text/plain": [
       "<Figure size 640x480 with 1 Axes>"
      ],
      "image/png": "[encoded data removed]"
     },
     "metadata": {},
     "output_type": "display_data"
    }
   ],
   "execution_count": 5
  },
  {
   "metadata": {},
   "cell_type": "markdown",
   "source": [
    "To find the best fit for these GRB properties with the model previously defined, I will use a goodness of fit (`GoF`) function using the $\\chi^2$ statistical test following:\n",
    "$$\\chi^2 = \\sum_i (O_i - E_i)^2$$,\n",
    "where $O_i$ and $E_i$ are the obsered and expected values respectively. By defining a parameter space (k,m) and computing the $\\chi^2$ value for each combination of parameters, the best combination will be that with lowest $\\chi^2$ (i.e. 'least squares' method)."
   ],
   "id": "96b086c0f36d32ba"
  },
  {
   "cell_type": "code",
   "id": "6cefc7f51eb4183c",
   "metadata": {
    "ExecuteTime": {
     "end_time": "2025-06-30T09:14:19.101553Z",
     "start_time": "2025-06-30T09:14:19.099673Z"
    }
   },
   "source": [
    "def GoF(m,k, x=Eiso, y=Epeak):\n",
    "    \"\"\"\n",
    "    Goodness of fit following the chi-squared formula\n",
    "    :param m: slope\n",
    "    :param k: y-axis cut\n",
    "    :param x: x-values\n",
    "    :param y: y-values\n",
    "    :return: chi-squared value\n",
    "    \"\"\"\n",
    "    model = m*x + k\n",
    "    chi_squared = np.sum((y-model)**2)\n",
    "    return chi_squared"
   ],
   "outputs": [],
   "execution_count": 6
  },
  {
   "cell_type": "code",
   "id": "815097095f0344e2",
   "metadata": {
    "ExecuteTime": {
     "end_time": "2025-06-30T09:14:19.548897Z",
     "start_time": "2025-06-30T09:14:19.111304Z"
    }
   },
   "source": [
    "# Define parameter ranges\n",
    "k = np.linspace(-25.,-20.,100) # from the previous scatter plot, we can infer that the y-axis cut is around -25 and -20\n",
    "m = np.linspace(0.0,1.0,100) # the slope must be positive\n",
    "\n",
    "G = np.zeros([len(m), len(k)]) # G[i,j] corresponds to m[i], k[j]\n",
    "for i in range(len(m)):\n",
    "    for j in range(len(k)):\n",
    "        G[i,j] = GoF(m[i], k[j], x=Eiso, y=Epeak)"
   ],
   "outputs": [],
   "execution_count": 7
  },
  {
   "metadata": {
    "ExecuteTime": {
     "end_time": "2025-06-30T09:14:19.649145Z",
     "start_time": "2025-06-30T09:14:19.555072Z"
    }
   },
   "cell_type": "code",
   "source": [
    "# extract best fit parameters\n",
    "best_fit = np.argmin(G)\n",
    "m_index, k_index = np.unravel_index(best_fit, G.shape)\n",
    "m_fit, k_fit = m[m_index], k[k_index]\n",
    "print(m_fit, k_fit)\n",
    "\n",
    "plt.figure()\n",
    "plt.contourf(k, m, np.log10(G))#, levels=50)\n",
    "plt.colorbar(label=r'$\\log_{10} (\\text{GoF})$')\n",
    "plt.xlabel(r'Parameter $k$')\n",
    "plt.ylabel(r'Parameter $m$')\n",
    "plt.scatter(k_fit, m_fit, marker='1', color='r')"
   ],
   "id": "d301d555cecf42b1",
   "outputs": [
    {
     "name": "stdout",
     "output_type": "stream",
     "text": [
      "0.4545454545454546 -21.515151515151516\n"
     ]
    },
    {
     "data": {
      "text/plain": [
       "<matplotlib.collections.PathCollection at 0x123851a90>"
      ]
     },
     "execution_count": 8,
     "metadata": {},
     "output_type": "execute_result"
    },
    {
     "data": {
      "text/plain": [
       "<Figure size 640x480 with 2 Axes>"
      ],
      "image/png": "[encoded data removed]"
     },
     "metadata": {},
     "output_type": "display_data"
    }
   ],
   "execution_count": 8
  },
  {
   "metadata": {},
   "cell_type": "markdown",
   "source": "In the last cells, we've used the `GoF` function to compute the best fit parameters of a predefined parameter space. Now, let's visualize the best fit results superposed with the data.",
   "id": "5a7c8b93ceab277c"
  },
  {
   "metadata": {
    "ExecuteTime": {
     "end_time": "2025-06-30T09:14:21.071705Z",
     "start_time": "2025-06-30T09:14:20.998900Z"
    }
   },
   "cell_type": "code",
   "source": [
    "plt.figure()\n",
    "plt.scatter(Eiso, Epeak)\n",
    "plt.plot(Eiso, k_fit+Eiso*m_fit, label=f'k={k_fit}, m={m_fit}', color='r')\n",
    "# plt.plot(Eiso, -24+Eiso*0.5, color='g', label=f'k={-24}, m={0.5}') # line used to calibrate the parameter space\n",
    "plt.legend()\n",
    "plt.xlabel(r'$E_\\text{iso}$')\n",
    "plt.ylabel(r'$E_\\text{peak}$')"
   ],
   "id": "1d473b8cb5f7dd1",
   "outputs": [
    {
     "data": {
      "text/plain": [
       "Text(0, 0.5, '$E_\\\\text{peak}$')"
      ]
     },
     "execution_count": 9,
     "metadata": {},
     "output_type": "execute_result"
    },
    {
     "data": {
      "text/plain": [
       "<Figure size 640x480 with 1 Axes>"
      ],
      "image/png": "[encoded data removed]"
     },
     "metadata": {},
     "output_type": "display_data"
    }
   ],
   "execution_count": 9
  },
  {
   "metadata": {
    "ExecuteTime": {
     "end_time": "2025-06-30T09:17:55.183420Z",
     "start_time": "2025-06-30T09:17:55.177922Z"
    }
   },
   "cell_type": "code",
   "source": [
    "def measure_distances(a, b, x, y):\n",
    "    \"\"\"\n",
    "    Measures the distance between a point p = (x,y) and a line of best fit y=ax+b.\n",
    "    :param p: coordinates of the point\n",
    "    :param a: slope of the fit\n",
    "    :param b: y-axis cut of the fit\n",
    "    :return: scalar for the distance\n",
    "    \"\"\"\n",
    "    # for the line point we use x0=0 and thus y0=b\n",
    "    numerator = abs(a*x -y +b)\n",
    "    denominator = np.sqrt(1 + (a ** 2))\n",
    "    return numerator / denominator\n",
    "\n",
    "def gaussian(x, mu, sigma):\n",
    "    return (1/sigma*np.sqrt(2*np.pi)) * np.exp(-(x-mu)**2/(2*sigma**2)) # gaussian function"
   ],
   "id": "ebdae11ca68acfc8",
   "outputs": [],
   "execution_count": 17
  },
  {
   "metadata": {
    "ExecuteTime": {
     "end_time": "2025-06-30T09:31:54.599706Z",
     "start_time": "2025-06-30T09:31:54.546993Z"
    }
   },
   "cell_type": "code",
   "source": [
    "plt.figure()\n",
    "distances = np.array([measure_distances(m_fit, k_fit, Eiso_i, Epeak_i) for Eiso_i, Epeak_i in zip(Eiso, Epeak)])\n",
    "plt.hist(distances)\n",
    "\n",
    "median = np.sum(distances)/len(distances)\n",
    "plt.vlines(median, 0, 14, color='red')"
   ],
   "id": "a234468845d9d36a",
   "outputs": [
    {
     "data": {
      "text/plain": [
       "<matplotlib.collections.LineCollection at 0x1430711d0>"
      ]
     },
     "execution_count": 29,
     "metadata": {},
     "output_type": "execute_result"
    },
    {
     "data": {
      "text/plain": [
       "<Figure size 640x480 with 1 Axes>"
      ],
      "image/png": "[encoded data removed]"
     },
     "metadata": {},
     "output_type": "display_data"
    }
   ],
   "execution_count": 29
  },
  {
   "metadata": {},
   "cell_type": "code",
   "outputs": [],
   "execution_count": null,
   "source": "",
   "id": "53a36a77185ef903"
  },
  {
   "metadata": {},
   "cell_type": "code",
   "outputs": [],
   "execution_count": null,
   "source": "",
   "id": "18be66d9271a1554"
  },
  {
   "metadata": {},
   "cell_type": "code",
   "outputs": [],
   "execution_count": null,
   "source": "",
   "id": "198128a16e64de01"
  },
  {
   "metadata": {},
   "cell_type": "code",
   "outputs": [],
   "execution_count": null,
   "source": "",
   "id": "5859444cc5162c24"
  },
  {
   "metadata": {},
   "cell_type": "code",
   "outputs": [],
   "execution_count": null,
   "source": "",
   "id": "91808f209f3b3849"
  },
  {
   "metadata": {},
   "cell_type": "markdown",
   "source": [
    "# Part 2: calculating the errors on the free fitting parameters\n",
    "In this next part, we are going to compute the errors on the free parameters $a$ and $b$ of the fitting model $\\log_{10}(E_\\text{peak}) = a\\times \\log_{10}(E_\\text{iso}) + b$. For this we will use $\\sigma^2 = \\frac{\\chi^2}{N-2}$, where $N=75$ is the number of data points, since the variance is defined as $\\sigma^2 = \\frac{\\sum_i (y-y_{model})^2}{N}$ and we are using $\\chi^2 = (y - y_{model})^2$, thus $\\sigma^2 = \\frac{\\chi^2}{N}$."
   ],
   "id": "eca039242db1cab7"
  },
  {
   "metadata": {
    "ExecuteTime": {
     "end_time": "2025-06-24T10:46:51.848189Z",
     "start_time": "2025-06-24T10:46:51.842350Z"
    }
   },
   "cell_type": "code",
   "source": [
    "sqchi = GoF(m_fit, k_fit, Eiso, Epeak)\n",
    "print(sqchi)\n",
    "sigma = sqchi/73\n",
    "sigma = np.sqrt(sigma)\n",
    "print(f'm = {m_fit:.4f} ± {sigma:.4f}')\n",
    "print(f'k = {k_fit:.4f} ± {sigma:.4f}')"
   ],
   "id": "632406f724402697",
   "outputs": [
    {
     "name": "stdout",
     "output_type": "stream",
     "text": [
      "3.3164148396428517\n",
      "m = 0.4545 ± 0.2131\n",
      "k = -21.5152 ± 0.2131\n"
     ]
    }
   ],
   "execution_count": 21
  },
  {
   "metadata": {},
   "cell_type": "markdown",
   "source": [
    "# Appendix\n",
    "---\n",
    "\n",
    "### Appendix 1\n",
    "This cell was used to manually draw a contour plot and extract the best fit values, as at the beginning the plot resulting from `plt.contourf` had some mistakes.\n"
   ],
   "id": "e51ea887cd2f3839"
  },
  {
   "metadata": {},
   "cell_type": "code",
   "source": [
    "#Since the plotting of the $lg(\\chi^2)$ surface was very weird with `plt.contourf` and it didn't coincide with the best fit parameters, I plotted a similar version manually as well as extracted the minimum value for `G`, obtaining the same fit results despite the weird plot. Additionally, I've performed the fit at the end with `scipy.curve_fit`, obtaining the exact same results.\n",
    "\n",
    "for i in range(len(m)):\n",
    "    for j in range(len(k)):\n",
    "        val = np.log10(G[i][j])\n",
    "        if 0<val and val<=.6:\n",
    "            plt.scatter(m[i],k[j],color='blue', s=1,marker='s')\n",
    "        elif .6<val and val<=1:\n",
    "            plt.scatter(m[i],k[j],color='green', s=1,marker='s')\n",
    "        elif 1<val and val<=2:\n",
    "            plt.scatter(m[i],k[j],color='orange', s=1,marker='s')\n",
    "        else:\n",
    "            plt.scatter(m[i],k[j],color='red', s=1,marker='s', alpha=0.3)\n",
    "plt.scatter(m_fit, k_fit, marker='1', color='yellow')\n",
    "\n",
    "minimum = 100\n",
    "coords = [0,0]\n",
    "for i in range(len(k)):\n",
    "    for j in range(len(m)):\n",
    "        if np.log10(G[i][j])<minimum:\n",
    "            minimum = np.log10(G[i][j])\n",
    "            coords = [k[i],m[j]]\n",
    "\n",
    "print(fr'Minimum: {minimum}\\t{10**minimum}')\n",
    "print(f'k_fit={coords[0]}\\tm_fit={coords[1]}')"
   ],
   "id": "77248a4719ff262d",
   "outputs": [],
   "execution_count": null
  },
  {
   "metadata": {},
   "cell_type": "markdown",
   "source": [
    "### Appendix 2\n",
    "Checking that my code was correct by comparing the results of my fit, with those using the `scipy.optimize.curve_fit` function."
   ],
   "id": "4b02f30c3ede30a"
  },
  {
   "metadata": {},
   "cell_type": "code",
   "source": [
    "from scipy.optimize import curve_fit\n",
    "\n",
    "def linear_model(x, k, m):\n",
    "    return k + m * x\n",
    "\n",
    "# Fit the model\n",
    "popt, pcov = curve_fit(linear_model, Eiso, Epeak)\n",
    "k_best, m_best = popt\n",
    "\n",
    "# Get parameter uncertainties\n",
    "param_errors = np.sqrt(np.diag(pcov))\n",
    "print(f\"Best fit: k = {k_best:.3f} ± {param_errors[0]:.3f}\")\n",
    "print(f\"Best fit: m = {m_best:.3f} ± {param_errors[1]:.3f}\")\n",
    "\n",
    "correlation_matrix = pcov / np.outer(param_errors, param_errors)\n",
    "print(\"Correlation matrix:\")\n",
    "print(correlation_matrix)"
   ],
   "id": "228391f83bc9a2c6",
   "outputs": [],
   "execution_count": null
  },
  {
   "metadata": {},
   "cell_type": "code",
   "source": "",
   "id": "ddde33c3e311ee1c",
   "outputs": [],
   "execution_count": null
  }
 ],
 "metadata": {
  "language_info": {
   "name": "python"
  }
 },
 "nbformat": 4,
 "nbformat_minor": 5
}
