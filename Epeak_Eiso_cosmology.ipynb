{
 "cells": [
  {
   "metadata": {},
   "cell_type": "markdown",
   "source": [
    "# Epeak_Eiso_cosmology.ipynb\n",
    "\n",
    "\n",
    "We have searched for a $E_\\text{peak}- E_\\text{iso}$ fit in the [Epeak-Eiso_correlation.ipynb](https://github.com/joanalnu/oab-inaf/blob/main/Epeak_Eiso_correlation.ipynb) and computed $E_\\text{iso}$ from respective fluences $S$ in dependency of cosmology in [Eiso_from_fluence.ipynb](https://github.com/joanalnu/oab-inaf/blob7main/Eiso_from_fluence.ipynb). In this notebook, we employ all that to constrain the cosmological parameters, searching for $E_\\text{peak}-E_\\text{iso}$ fit with less scatter (i.e. shorter point-fit distances), indicating the 'best cosmology.'"
   ],
   "id": "3b3913be2912e938"
  },
  {
   "metadata": {
    "ExecuteTime": {
     "end_time": "2025-07-10T11:27:00.636981Z",
     "start_time": "2025-07-10T11:26:58.794138Z"
    }
   },
   "cell_type": "code",
   "source": [
    "import numpy as np\n",
    "import pandas as pd\n",
    "import matplotlib.pyplot as plt\n",
    "from scipy.integrate import cumulative_trapezoid\n",
    "from tqdm import tqdm\n",
    "import itertools\n",
    "import logging\n",
    "from codecarbon import EmissionsTracker\n",
    "tracker = EmissionsTracker()\n",
    "logging.getLogger(\"codecarbon\").setLevel(logging.ERROR)"
   ],
   "id": "1ce3057b16d8a4ca",
   "outputs": [
    {
     "name": "stderr",
     "output_type": "stream",
     "text": [
      "[codecarbon INFO @ 13:26:59] Codecarbon is taking the configuration from global file: /Users/joanalnu/.codecarbon.config\n",
      "[codecarbon WARNING @ 13:26:59] Multiple instances of codecarbon are allowed to run at the same time.\n",
      "[codecarbon WARNING @ 13:26:59] Error while trying to count physical CPUs: [Errno 2] No such file or directory: 'lscpu'. Defaulting to 1.\n",
      "[codecarbon INFO @ 13:26:59] [setup] RAM Tracking...\n",
      "[codecarbon INFO @ 13:26:59] [setup] CPU Tracking...\n",
      "[codecarbon WARNING @ 13:27:00] No CPU tracking mode found. Falling back on estimation based on TDP for CPU. \n",
      " Mac OS and ARM processor detected: Please enable PowerMetrics sudo to measure CPU\n",
      "\n",
      "[codecarbon INFO @ 13:27:00] CPU Model on constant consumption mode: Apple M1\n",
      "[codecarbon WARNING @ 13:27:00] No CPU tracking mode found. Falling back on CPU constant mode.\n",
      "[codecarbon INFO @ 13:27:00] [setup] GPU Tracking...\n",
      "[codecarbon INFO @ 13:27:00] No GPU found.\n",
      "[codecarbon INFO @ 13:27:00] The below tracking methods have been set up:\n",
      "                RAM Tracking Method: RAM power estimation model\n",
      "                CPU Tracking Method: global constant\n",
      "                GPU Tracking Method: Unspecified\n",
      "            \n",
      "[codecarbon INFO @ 13:27:00] >>> Tracker's metadata:\n",
      "[codecarbon INFO @ 13:27:00]   Platform system: macOS-15.5-arm64-arm-64bit-Mach-O\n",
      "[codecarbon INFO @ 13:27:00]   Python version: 3.13.3\n",
      "[codecarbon INFO @ 13:27:00]   CodeCarbon version: 3.0.2\n",
      "[codecarbon INFO @ 13:27:00]   Available RAM : 16.000 GB\n",
      "[codecarbon INFO @ 13:27:00]   CPU count: 8 thread(s) in 1 physical CPU(s)\n",
      "[codecarbon INFO @ 13:27:00]   CPU model: Apple M1\n",
      "[codecarbon INFO @ 13:27:00]   GPU count: None\n",
      "[codecarbon INFO @ 13:27:00]   GPU model: None\n",
      "[codecarbon INFO @ 13:27:00] Emissions data (if any) will be saved to file /Users/joanalnu/Library/Mobile Documents/com~apple~CloudDocs/INAF-brera/oab-inaf/emissions.csv\n"
     ]
    }
   ],
   "execution_count": 1
  },
  {
   "metadata": {
    "ExecuteTime": {
     "end_time": "2025-07-10T11:27:00.658638Z",
     "start_time": "2025-07-10T11:27:00.647230Z"
    }
   },
   "cell_type": "code",
   "source": [
    "# read data\n",
    "df = pd.read_csv('table.csv')\n",
    "\n",
    "z = df['z']\n",
    "Epeak = np.log10(df['Epeak'])\n",
    "Epeak_err = df['Epeak_err']/(df['Epeak']*np.log(10))\n",
    "ycm = np.sum(Epeak)/len(Epeak)\n",
    "Epeak_bc = Epeak-ycm\n",
    "\n",
    "original_Eiso = np.log10(df['Eiso'])\n",
    "original_Eiso_err = df['Eiso_err']/(df['Eiso']*np.log(10))\n",
    "original_xcm = np.sum(original_Eiso)/len(original_Eiso)\n",
    "Eiso_err = original_Eiso_err # cosmology invariant"
   ],
   "id": "f1a0ee556e41f88f",
   "outputs": [],
   "execution_count": 2
  },
  {
   "metadata": {
    "ExecuteTime": {
     "end_time": "2025-07-10T11:27:00.675218Z",
     "start_time": "2025-07-10T11:27:00.663727Z"
    }
   },
   "cell_type": "code",
   "source": [
    "# Convert H0 to cgs units: H0 [s^-1] = H0 [km/s/Mpc] * (km/Mpc to 1/s conversion)\n",
    "# 1 Mpc = 3.086e24 cm, so H0_cgs = H0_kmsMpc * 1e5 / 3.086e24\n",
    "H0_cgs = 70.0 * 1e5 / 3.086e24 # s^-1\n",
    "Om_default = 0.3\n",
    "Ode_default = 0.7\n",
    "c = 2.99792458e10 # cm/s\n",
    "\n",
    "# physics\n",
    "# luminosity_distances, isotropic_equivalent_energy\n",
    "\n",
    "def luminosity_distance(redshift, Ho=H0_cgs, O_m=Om_default, O_DE=Ode_default):\n",
    "    \"\"\"\n",
    "    Calculate luminosity distance for given redshift(s) and cosmological parameters.\n",
    "\n",
    "    Parameters:\n",
    "    -----------\n",
    "    redshift : float or array\n",
    "        Redshift value(s)\n",
    "    Ho : float\n",
    "        Hubble constant in cgs units (s^-1)\n",
    "    O_m : float\n",
    "        Matter density parameter\n",
    "    O_DE : float\n",
    "        Dark energy density parameter\n",
    "\n",
    "    Returns:\n",
    "    --------\n",
    "    float or array\n",
    "        Luminosity distance in cm\n",
    "    \"\"\"\n",
    "\n",
    "    def luminosity_distance_single(z, Ho=Ho, O_m=O_m, O_DE=O_DE):\n",
    "        def integrand(z_prime):\n",
    "            return 1.0 / np.sqrt(O_m * (1 + z_prime)**3 + O_DE)\n",
    "\n",
    "        # Create redshift sample array\n",
    "        z_array = np.linspace(0, z, num=1000)\n",
    "\n",
    "        # Evaluate integrand on array\n",
    "        y_values = integrand(z_array)\n",
    "\n",
    "        # Compute definite integral from 0 to z\n",
    "        integral = cumulative_trapezoid(y_values, z_array, initial=0)[-1]\n",
    "\n",
    "        # Compute luminosity distance\n",
    "        return (c * (1 + z) / Ho) * integral\n",
    "\n",
    "    # Handle scalar and array inputs\n",
    "    if np.isscalar(redshift):\n",
    "        return luminosity_distance_single(redshift, Ho, O_m, O_DE)\n",
    "    else:\n",
    "        return np.array([luminosity_distance_single(z_i, Ho, O_m, O_DE) for z_i in redshift])\n",
    "\n",
    "standard_dL = luminosity_distance(z,H0_cgs,Om_default,Ode_default) # to avoid computing the standard cosmology each time\n",
    "\n",
    "def isotropic_equivalent_energy(redshift, Eiso=original_Eiso, H0=H0_cgs, Omega_m=Om_default, Omega_DE=Ode_default):\n",
    "    \"\"\"\n",
    "    Calculate the isotropic equivalent energy.\n",
    "\n",
    "    Parameters:\n",
    "    -----------\n",
    "    redshift : float or array\n",
    "        Redshift value(s)\n",
    "    fluence : float or array\n",
    "        Observed fluence (should be in erg/cm^2)\n",
    "    H0 : float\n",
    "        Hubble constant in cgs units (s^-1)\n",
    "    Omega_m : float\n",
    "        Matter density parameter\n",
    "    Omega_DE : float\n",
    "        Dark energy density parameter\n",
    "\n",
    "    Returns:\n",
    "    --------\n",
    "    float or array\n",
    "        Log10 of isotropic equivalent energy\n",
    "    \"\"\"\n",
    "    d_L = luminosity_distance(redshift, H0, Omega_m, Omega_DE)\n",
    "    return (d_L/standard_dL) * Eiso"
   ],
   "id": "1b4302544e175e04",
   "outputs": [],
   "execution_count": 3
  },
  {
   "metadata": {
    "ExecuteTime": {
     "end_time": "2025-07-10T11:28:57.741110Z",
     "start_time": "2025-07-10T11:28:57.736868Z"
    }
   },
   "cell_type": "code",
   "source": [
    "# statistics\n",
    "# linear_model, measure_distances, GoF, correlation\n",
    "\n",
    "def linear_model(x, a, b):\n",
    "    \"\"\"\n",
    "    Returns results array of a linear progression with slope a and by-axis cut b.\n",
    "    :param x: array of x-axis values\n",
    "    :param a: slope of the linear function\n",
    "    :param b: y-axis cut of the linear function\n",
    "    :return: results of a linear model to an array of x values\n",
    "    \"\"\"\n",
    "    return a * x + b\n",
    "\n",
    "def measure_distances(a, b, x, y):\n",
    "    \"\"\"\n",
    "    Measures the distance between a point p = (x,y) and a line of best fit y=ax+b.\n",
    "    :param a: slope of the fit\n",
    "    :param b: y-axis cut of the fit\n",
    "    :param x: x coordinate of the point\n",
    "    :param y: y coordinate of the point\n",
    "    :return: scalar for the distance\n",
    "    \"\"\"\n",
    "    # for the line point we use x0=0 and thus y0=b\n",
    "    numerator = abs(a*x - y + b)  # assuming linear model\n",
    "    denominator = np.sqrt(1 + (a ** 2))\n",
    "    return numerator / denominator\n",
    "\n",
    "def reduced_chi_squared(m, k, x, y, xerr=Eiso_err, yerr=Epeak_err):\n",
    "    \"\"\"\n",
    "    Goodness of fit following the reduced chi-squared formula with error propagation.\n",
    "    :param m: slope\n",
    "    :param k: y-axis cut\n",
    "    :param x: x-values\n",
    "    :param y: y-values\n",
    "    :param x_err: uncertainties in x-values\n",
    "    :param y_err: uncertainties in y-values\n",
    "    :return: reduced chi-squared value\n",
    "    \"\"\"\n",
    "\n",
    "    model = m*x+k\n",
    "    residuals = (y - model)**2\n",
    "    total_variance = yerr**2\n",
    "    # total_variance = x_err**2 * something\n",
    "    dof = len(x)-2\n",
    "    return np.sum(residuals/total_variance)/dof\n",
    "    # remember that by accounting for x_err, residuals must be perpendicular distances\n",
    "\n",
    "def correlation(x, y=Epeak, xerr=Eiso_err, yerr=Epeak_err):\n",
    "    \"\"\"\n",
    "    Find best fit parameters by minimizing chi-squared\n",
    "    :param x: x-values\n",
    "    :param y: y-values\n",
    "    :param xerr: x error bars (defaults to None)\n",
    "    :param yerr: y error bars (defaults to None)\n",
    "    :return: best fit slope, intercept, and minimum chi-squared value\n",
    "    \"\"\"\n",
    "    a = np.linspace(0.0,1.0,25)  # the slope must be positive\n",
    "    b = np.linspace(-1.,1.,25)  # from the previous scatter plot, we can infer that the y-axis cut is around -25 and -20\n",
    "\n",
    "    G = np.zeros([len(a), len(b)])  # G[i,j] corresponds to a[i], b[j]\n",
    "    #for alpha, beta in tqdm(itertools.product(range(len(a)), range(len(b))), total=len(a) * len(b), desc=\"Fitting Correlation...\", leave=False):\n",
    "    for alpha in range(len(a)):\n",
    "        for beta in range(len(b)):\n",
    "            G[alpha, beta] = reduced_chi_squared(a[alpha], b[beta], x=x, y=y, xerr=xerr, yerr=yerr)\n",
    "\n",
    "    # extract best fit parameters\n",
    "    a_idx, b_idx = np.unravel_index(np.argmin(G), G.shape)\n",
    "    return a[a_idx], b[b_idx], np.min(G)"
   ],
   "id": "3c29776bfdbbefb2",
   "outputs": [],
   "execution_count": 20
  },
  {
   "metadata": {
    "ExecuteTime": {
     "end_time": "2025-07-10T11:28:57.915866Z",
     "start_time": "2025-07-10T11:28:57.908090Z"
    }
   },
   "cell_type": "code",
   "source": [
    "# main\n",
    "def main(Om,Ode):\n",
    "\n",
    "    distances = np.zeros([len(Om), len(Ode), len(original_Eiso)])\n",
    "    medians = np.zeros([len(Om), len(Ode)])\n",
    "    chi_surface = np.zeros([len(Om), len(Ode)])\n",
    "\n",
    "    for i, j in tqdm(itertools.product(range(len(Om)), range(len(Ode))), total=len(Om) * len(Ode), desc=\"Cosmological fit\"):\n",
    "    #for i in range(len(Om)):\n",
    "        #for j in range(len(Ode)):\n",
    "            Eiso = isotropic_equivalent_energy(z,Omega_m=Om[i],Omega_DE=Ode[j])\n",
    "            xcm = np.sum(Eiso)/len(Eiso)\n",
    "            Eiso_bc = Eiso-xcm\n",
    "\n",
    "            # check for NaN or inf values\n",
    "            if np.any(~np.isfinite(Eiso)): # happens with Om=0.0, Ode=0.0\n",
    "                distances[i,j,:] = np.inf # instead of NaN which creates problems when finding minimum with argmin\n",
    "                medians[i,j] = np.inf\n",
    "                tqdm.write(f'{i} {j}\\tOm={Om[i]}, Ode={Ode[j]}, Eiso contains infinity on NaN')\n",
    "                continue\n",
    "\n",
    "            slope, intercept, chi_surface[i,j] = correlation(x=Eiso_bc,y=Epeak_bc,xerr=None,yerr=Epeak_err) #xerr=Eiso_err\n",
    "            distances[i,j,:] = measure_distances(slope, intercept, Eiso_bc, Epeak_bc)\n",
    "            medians[i,j] = np.sum(distances[i,j,:])/len(distances[i,j,:])\n",
    "\n",
    "            #tqdm.write(f'{i} {j}\\tOm={Om[i]:.3f}, Ode={Ode[j]:.3f}, m_fit={m_fit:.3f}, k_fit={k_fit:.3f}, median = {medians[i,j]:.3f}')\n",
    "            fig, ax = plt.subplots(1,2, figsize=(8,5))\n",
    "            ax[0].errorbar(Eiso, Epeak, xerr=Eiso_err, yerr=Epeak_err, fmt='o')\n",
    "            ax[0].plot(Eiso, linear_model(Eiso_bc, slope, intercept+ycm), c='r', label=f'fit: slope={slope:.3f}, intercept={intercept:.3f}')\n",
    "            ax[0].set_xlabel(r'$E_\\text{iso}$'); ax[0].set_ylabel(r'$E_\\text{peak}$'); ax[0].legend()\n",
    "\n",
    "            ax[1].hist(distances[i,j,:])\n",
    "            ax[1].vlines(medians[i,j], 0, 14, colors='r', linestyles='dashed', label=f'median: {medians[i,j]:.3f}')\n",
    "            ax[1].set_xlabel('data-fit distances'); ax[1].legend()\n",
    "\n",
    "            plt.tight_layout()\n",
    "            plt.title(fr'$\\Omega_m=${Om[i]:.3f}, $\\Omega_{{DE}}=${Ode[j]:.3f}')\n",
    "            fig.savefig(f'cosmological_fit/Om{Om[i]:.3f}_Ode{Ode[j]:.3f}_{i}{j}.png')\n",
    "            plt.close()\n",
    "\n",
    "    np.save(f'cosmological_fit/{distances.shape}_distances.npy', distances)\n",
    "\n",
    "    return distances, medians, chi_surface"
   ],
   "id": "e1799e74e7cf5722",
   "outputs": [],
   "execution_count": 21
  },
  {
   "metadata": {
    "ExecuteTime": {
     "end_time": "2025-07-10T11:28:58.072447Z",
     "start_time": "2025-07-10T11:28:58.062550Z"
    }
   },
   "cell_type": "code",
   "source": [
    "# Ploting\n",
    "# create_mask, create_contourplot, add_constraint_lines\n",
    "\n",
    "\n",
    "# now let's plot the (Om, Ode)mean surface\n",
    "def create_mask(data, flat=True, no_big_bang=True):\n",
    "    # Create a proper mask for unphysical regions\n",
    "    # instead of a simple mask, the proper mask ensures that values aren't marked as NaN or 0, important for the argmin results\n",
    "    mask = np.zeros_like(medians, dtype=bool)\n",
    "    for i in range(len(Om)):\n",
    "        for j in range(len(Ode)):\n",
    "            if (Om[i]+Ode[j]>1.2 or # approx flat-universe region\n",
    "                    Om[i]+Ode[j]<0.8):\n",
    "                mask[i,j]=flat\n",
    "            if (Ode[j]>Om[i]+1 or\n",
    "                    Ode[j] >= Om[i]** (1/2.32) + 1.0 or # approx no big bang area\n",
    "                    not np.isfinite(medians[i, j])):\n",
    "                mask[i,j]=no_big_bang\n",
    "            if data[i,j]==np.inf:\n",
    "                mask[i,j]=True\n",
    "\n",
    "    return np.ma.masked_where(mask,data)\n",
    "\n",
    "def create_contourplot(p1, p2, surface, flat_mask=False, no_big_bang_mask=False, levels=100, datatype='chi', cmap='jet'):\n",
    "    def types(datatype):\n",
    "        if datatype == 'chi': return r'$\\chi^2$'\n",
    "        elif datatype == 'distances': return 'Distances mean'\n",
    "        else: return r'Distances mean or $\\chi^2$'\n",
    "\n",
    "    masked_surface = create_mask(surface, flat=flat_mask, no_big_bang=no_big_bang_mask)\n",
    "\n",
    "    p1_idx, p2_idx = np.unravel_index(np.argmin(masked_surface), masked_surface.shape)\n",
    "    p1_fit, p2_fit = p1[p1_idx], p2[p2_idx]\n",
    "\n",
    "    print(f'Best fit: Om={p1_fit:.3f}, Ode={p2_fit:.3f}')\n",
    "    print(f'Minimum average distance: {masked_surface[p1_idx,p2_idx]:.3}')\n",
    "\n",
    "    plt.figure(figsize=(8, 6))\n",
    "    plt.contourf(Om, Ode, masked_surface.T, cmap=cmap, levels=levels)\n",
    "    plt.colorbar(label=f'{types(datatype)} surface')\n",
    "    plt.scatter(p1_fit, p2_fit, c='red', marker='x', s=100, linewidth=1, label=fr'Best fit: $\\Omega_m$={p1_fit:.2f}, $\\Omega_{{DE}}$={p2_fit:.2f}')\n",
    "    plt.scatter(0.3, 0.7, c='black', marker='x', s=100, linewidths=1, label=r'Standard Cosmology $\\Omega_m = 0.3,\\ \\Omega_{DE} = 0.7$')\n",
    "\n",
    "    plt.xlabel(r'$\\Omega_m$'); plt.ylabel(r'$\\Omega_{DE}$'); plt.legend(loc='upper right')\n",
    "    plt.xlim(Om[0],Om[-1]); plt.ylim(Ode[0],Ode[-1]); plt.tight_layout()\n",
    "    return plt.gca()\n",
    "\n",
    "def add_constraint_lines(plt):\n",
    "    plt.plot(Om, 0.5*Om, linestyle='--', color='black', alpha=0.7)\n",
    "    plt.annotate('accelerating', (1.5,0.80), rotation=26.35)\n",
    "    plt.annotate('decelerating', (1.5,0.67), rotation=26.35)\n",
    "\n",
    "    plt.plot(Om, Om**(1/2.32)+1, c='r', alpha=0.7)\n",
    "    plt.annotate('NO BIG BANG', (0.05,1.55), rotation=45, color='red')\n",
    "\n",
    "    plt.plot(Om, 1-Om, linestyle='--', color='gray', alpha=0.7)\n",
    "    plt.annotate('open', (0.75,0.1), rotation=-45)\n",
    "    plt.annotate('closed', (0.8,0.15), rotation=-45)\n",
    "\n",
    "    return None"
   ],
   "id": "dcee695578b51206",
   "outputs": [],
   "execution_count": 22
  },
  {
   "metadata": {
    "ExecuteTime": {
     "end_time": "2025-07-10T11:34:03.065660Z",
     "start_time": "2025-07-10T11:32:24.594260Z"
    }
   },
   "cell_type": "code",
   "source": [
    "# Define cosmological parameter grids\n",
    "Om = np.linspace(0.01,2.0,25)\n",
    "Ode = np.linspace(0.01,2.0,25)\n",
    "\n",
    "tracker.start()\n",
    "distances, medians, chi_surface = main(Om, Ode)\n",
    "tracker.stop()"
   ],
   "id": "4e1dfecb68a66728",
   "outputs": [
    {
     "name": "stderr",
     "output_type": "stream",
     "text": [
      "Cosmological fit: 100%|██████████| 625/625 [01:38<00:00,  6.35it/s]\n"
     ]
    },
    {
     "data": {
      "text/plain": [
       "0.0001975496994824691"
      ]
     },
     "execution_count": 27,
     "metadata": {},
     "output_type": "execute_result"
    }
   ],
   "execution_count": 27
  },
  {
   "metadata": {
    "ExecuteTime": {
     "end_time": "2025-07-10T11:34:20.824845Z",
     "start_time": "2025-07-10T11:34:18.578149Z"
    }
   },
   "cell_type": "code",
   "source": [
    "minimum_chi_squared = np.min(chi_surface)\n",
    "plot = create_contourplot(Om, Ode, chi_surface, datatype='distances', levels=[minimum_chi_squared, minimum_chi_squared + 2.3, minimum_chi_squared + 4.61, minimum_chi_squared + 9.21], cmap='plasma')\n",
    "add_constraint_lines(plot)"
   ],
   "id": "e3673fd12db06746",
   "outputs": [
    {
     "name": "stdout",
     "output_type": "stream",
     "text": [
      "Best fit: Om=0.673, Ode=1.585\n",
      "Minimum average distance: 14.4\n"
     ]
    },
    {
     "data": {
      "text/plain": [
       "<Figure size 800x600 with 2 Axes>"
      ],
      "image/png": "[encoded data removed]"
     },
     "metadata": {},
     "output_type": "display_data"
    }
   ],
   "execution_count": 29
  },
  {
   "metadata": {},
   "cell_type": "code",
   "outputs": [],
   "execution_count": null,
   "source": "",
   "id": "2a4c1f7f25f04911"
  }
 ],
 "metadata": {
  "kernelspec": {
   "display_name": "Python [conda env:base] *",
   "language": "python",
   "name": "conda-base-py"
  },
  "language_info": {
   "codemirror_mode": {
    "name": "ipython",
    "version": 3
   },
   "file_extension": ".py",
   "mimetype": "text/x-python",
   "name": "python",
   "nbconvert_exporter": "python",
   "pygments_lexer": "ipython3",
   "version": "3.12.7"
  }
 },
 "nbformat": 4,
 "nbformat_minor": 5
}
