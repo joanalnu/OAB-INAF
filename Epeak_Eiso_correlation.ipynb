{
 "cells": [
  {
   "metadata": {},
   "cell_type": "markdown",
   "source": "# Title",
   "id": "20fe4089855e7abd"
  },
  {
   "metadata": {},
   "cell_type": "markdown",
   "source": [
    "Correlation between $E_{peak}$ and $E_{iso}$.\n",
    "Since the scatter plot it logarithmic, the correlation will be a power-law:\n",
    "$$E_{peak} = K \\cdot E_{iso}^q$$\n",
    "where $K$ is the normalization factor and $q$ the slope."
   ],
   "id": "a920b0a7958b6a14"
  },
  {
   "metadata": {},
   "cell_type": "code",
   "outputs": [],
   "execution_count": null,
   "source": [
    "import numpy as np\n",
    "import pandas as pd\n",
    "import matplotlib.pyplot as plt"
   ],
   "id": "f7fc84dc0633fc42"
  },
  {
   "metadata": {},
   "cell_type": "markdown",
   "source": [
    "For the goodness of fit function we will use the $\\chi^2$ method, following:\n",
    "$$\\chi^2 = \\sum_{i=1} ^N \\frac{\\left(O_i - E_i \\right)^2}{E_i^2}$$,\n",
    "where $E_i$ and $O_i$ are the expected and observed values respectively."
   ],
   "id": "961ecc7fc40420f4"
  },
  {
   "metadata": {},
   "cell_type": "code",
   "outputs": [],
   "execution_count": null,
   "source": [
    "def Gof(k,q,x=df(), y=df()):\n",
    "    \"\"\"\n",
    "    Goodness of fit following the chi-squared formula\n",
    "    :param k:\n",
    "    :param q:\n",
    "    :param x:\n",
    "    :param y:\n",
    "    :return:\n",
    "    \"\"\"\n",
    "\n",
    "    model = k*x**q\n",
    "    chi_squared = []\n",
    "    for i in range(len(x)):\n",
    "        val = ((y[i] - model[i])**2)/model[i]\n",
    "        chi_squared.append(val)\n",
    "\n",
    "    return np.sum(chi_squared)"
   ],
   "id": "6cefc7f51eb4183c"
  }
 ],
 "metadata": {},
 "nbformat": 4,
 "nbformat_minor": 5
}
