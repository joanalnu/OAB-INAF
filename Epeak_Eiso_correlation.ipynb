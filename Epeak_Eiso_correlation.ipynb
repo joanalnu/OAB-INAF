{
 "cells": [
  {
   "cell_type": "markdown",
   "id": "20fe4089855e7abd",
   "metadata": {},
   "source": [
    "# $E_{peak} - E_{iso}$ relation"
   ]
  },
  {
   "cell_type": "markdown",
   "id": "a920b0a7958b6a14",
   "metadata": {},
   "source": [
    "Correlation between $E_{peak}$ (spectral peak energy from $\\nu F_\\nu - \\nu$ diagram) and $E_{iso}$ (equivalent isotropic energy $E_\\text{iso} = 4\\pi D_L^2S/(1+z)$).\n",
    "Since the scatter plot is logarithmic, the correlation will be a power-law.\n",
    "$$E_{peak} = A \\cdot E_{iso}^m$$\n",
    "However, for the fit and ploting we will use a linear equivalent by taking the logarithm:\n",
    "$$\n",
    "\\begin{align*}\n",
    "    \\log_{10} (E_\\text{peak}) &= \\log_{10}(A) + \\log_{10} (E_\\text{iso}) \\times m \\\\\n",
    "    y &= k + mx\n",
    "\\end{align*}\n",
    "$$"
   ]
  },
  {
   "metadata": {
    "ExecuteTime": {
     "end_time": "2025-06-19T17:24:33.002191Z",
     "start_time": "2025-06-19T17:24:32.452340Z"
    }
   },
   "cell_type": "code",
   "source": [
    "import numpy as np\n",
    "import pandas as pd\n",
    "import matplotlib.pyplot as plt"
   ],
   "id": "f7fc84dc0633fc42",
   "outputs": [],
   "execution_count": 1
  },
  {
   "cell_type": "code",
   "id": "d0c7e841922259f0",
   "metadata": {
    "ExecuteTime": {
     "end_time": "2025-06-19T17:24:33.513526Z",
     "start_time": "2025-06-19T17:24:33.498997Z"
    }
   },
   "source": "df = pd.read_csv('table.csv') # read the data from Ghirlanda et al. 2008",
   "outputs": [],
   "execution_count": 2
  },
  {
   "metadata": {},
   "cell_type": "markdown",
   "source": "Pandas reads the `'Eiso'` and `'Eiso_err'` columns as `string`, so passing the lists through `get_float` returns the correct variable type.",
   "id": "d22cd6c1db1319fa"
  },
  {
   "metadata": {
    "ExecuteTime": {
     "end_time": "2025-06-19T17:24:34.480357Z",
     "start_time": "2025-06-19T17:24:34.475550Z"
    }
   },
   "cell_type": "code",
   "source": [
    "def get_float(col):\n",
    "    return np.array([float(base) * 10**float(exponent) for val in col for base, exponent in [str(val).split('e')]])"
   ],
   "id": "7d0bdb4f019f593b",
   "outputs": [],
   "execution_count": 3
  },
  {
   "metadata": {
    "ExecuteTime": {
     "end_time": "2025-06-19T17:24:36.804875Z",
     "start_time": "2025-06-19T17:24:36.656400Z"
    }
   },
   "cell_type": "code",
   "source": [
    "Epeak = np.log10(df['Epeak']) # keV\n",
    "Eiso = np.log10(get_float(df['Eiso'])) # ergs\n",
    "\n",
    "plt.figure()\n",
    "plt.scatter(Eiso, Epeak)\n",
    "#plt.errorbar(Eiso, Epeak, xerr=Eiso_err, yerr=Epeak_err, fmt='.') # everything in ergs\n",
    "\n",
    "plt.xlabel(r'$log(E_{\\text{iso}})$')\n",
    "plt.ylabel(r'$log(E_{\\text{peak}})$')"
   ],
   "id": "7e2481247592dbf6",
   "outputs": [
    {
     "data": {
      "text/plain": [
       "Text(0, 0.5, '$log(E_{\\\\text{peak}})$')"
      ]
     },
     "execution_count": 4,
     "metadata": {},
     "output_type": "execute_result"
    },
    {
     "data": {
      "text/plain": [
       "<Figure size 640x480 with 1 Axes>"
      ],
      "image/png": "[encoded data removed]"
     },
     "metadata": {},
     "output_type": "display_data"
    }
   ],
   "execution_count": 4
  },
  {
   "metadata": {},
   "cell_type": "markdown",
   "source": [
    "Next we'll try to find a fit for these GRB properties $(E_{\\text{peak}}$ - $E_{\\text{iso}})$ with the function $y = k + mx$, corresponding to the above definitions. I will use a goodness of fit (GoF) function (using the $\\chi^2$ method and a parameter space $(m,q)$ to find the 'best fit'. For the `GoF` function I'll be using the $\\chi^2$ method, following:\n",
    "$$ \\chi^2 = \\sum_i (O_i - E_i)^2$$,\n",
    "where $O_i$ and $E_i$ are the observed and expected values respectively."
   ],
   "id": "96b086c0f36d32ba"
  },
  {
   "cell_type": "code",
   "id": "6cefc7f51eb4183c",
   "metadata": {
    "ExecuteTime": {
     "end_time": "2025-06-19T17:24:39.374275Z",
     "start_time": "2025-06-19T17:24:39.370302Z"
    }
   },
   "source": [
    "def GoF(k,m,x=Eiso, y=Epeak):\n",
    "    \"\"\"\n",
    "    Goodness of fit following the chi-squared formula\n",
    "    :param m: y-axis cut\n",
    "    :param q: slope\n",
    "    :param x: x-values\n",
    "    :param y: y-values\n",
    "    :return: chi-squared value\n",
    "    \"\"\"\n",
    "\n",
    "    model = k + (m*x)\n",
    "    chi_squared = np.sum((y-model)**2)\n",
    "    return chi_squared"
   ],
   "outputs": [],
   "execution_count": 5
  },
  {
   "cell_type": "code",
   "id": "815097095f0344e2",
   "metadata": {
    "ExecuteTime": {
     "end_time": "2025-06-19T17:24:41.531775Z",
     "start_time": "2025-06-19T17:24:41.067093Z"
    }
   },
   "source": [
    "k = np.linspace(-25.,-20.,100) # from the previous scatter plot, we can infer that the y-axis cut is around -25 and -20\n",
    "m = np.linspace(.0,1.,100) # if this is the slope of the power-law, it must be positive\n",
    "\n",
    "G = np.zeros([len(k),len(m)])\n",
    "for i in range(len(k)):\n",
    "    for j in range(len(m)):\n",
    "        G[i][j] = GoF(k[i],m[j])"
   ],
   "outputs": [],
   "execution_count": 6
  },
  {
   "metadata": {},
   "cell_type": "markdown",
   "source": "Now we extract the best fit parameters, i.e. where the error squares are the least, and plot the fit over the scatter.",
   "id": "ccac1f4295bd4ff1"
  },
  {
   "metadata": {
    "ExecuteTime": {
     "end_time": "2025-06-19T17:24:44.240062Z",
     "start_time": "2025-06-19T17:24:44.115826Z"
    }
   },
   "cell_type": "code",
   "source": [
    "best_fit = np.argmin(G)\n",
    "k_index, m_index = np.unravel_index(best_fit, G.shape)\n",
    "k_fit, m_fit = k[k_index], m[m_index]\n",
    "\n",
    "plt.figure()\n",
    "plt.contourf(k,m,np.log10(G))\n",
    "plt.colorbar(label=r'$log_{10}(\\text{GoF})$')\n",
    "plt.xlabel(r'Parameter $k$')\n",
    "plt.ylabel(r'Parameter $m$')\n",
    "plt.scatter(k_fit, m_fit)\n",
    "k_val = np.linspace(-22.87,-22.399, 100)\n",
    "plt.plot(k_val, -2.1*k_val+(22.8*-2.1+0.85), color='r')"
   ],
   "id": "d301d555cecf42b1",
   "outputs": [
    {
     "data": {
      "text/plain": [
       "[<matplotlib.lines.Line2D at 0x10c864910>]"
      ]
     },
     "execution_count": 7,
     "metadata": {},
     "output_type": "execute_result"
    },
    {
     "data": {
      "text/plain": [
       "<Figure size 640x480 with 2 Axes>"
      ],
      "image/png": "[encoded data removed]"
     },
     "metadata": {},
     "output_type": "display_data"
    }
   ],
   "execution_count": 7
  },
  {
   "metadata": {
    "ExecuteTime": {
     "end_time": "2025-06-19T17:38:06.544554Z",
     "start_time": "2025-06-19T17:36:41.337450Z"
    }
   },
   "cell_type": "code",
   "source": [
    "lower = np.argmin(G)\n",
    "higher = np.argmax(G)\n",
    "for i in range(len(k)):\n",
    "    for j in range(len(m)):\n",
    "        val = np.log10(G[i][j])\n",
    "        if 0<val and val<=0.55:\n",
    "            plt.scatter(k[i],m[j],color='g', s=1)\n",
    "        elif 0.55<val and val<=.6:\n",
    "            plt.scatter(k[i],m[j],color='y', s=1)\n",
    "        elif 0.6<val and val<=1:\n",
    "            plt.scatter(k[i],m[j],color='orange', s=1)\n",
    "        else:\n",
    "            plt.scatter(k[i],m[j],color='red', s=1)\n",
    "plt.scatter(k_fit, m_fit, marker='h', color='black')"
   ],
   "id": "77248a4719ff262d",
   "outputs": [
    {
     "data": {
      "text/plain": [
       "<matplotlib.collections.PathCollection at 0x315ce51d0>"
      ]
     },
     "execution_count": 13,
     "metadata": {},
     "output_type": "execute_result"
    },
    {
     "data": {
      "text/plain": [
       "<Figure size 640x480 with 1 Axes>"
      ],
      "image/png": "[encoded data removed]"
     },
     "metadata": {},
     "output_type": "display_data"
    }
   ],
   "execution_count": 13
  },
  {
   "metadata": {},
   "cell_type": "code",
   "source": [
    "plt.figure()\n",
    "plt.scatter(Eiso, Epeak)\n",
    "plt.plot(Eiso, k_fit+Eiso*m_fit, label=f'k={k_fit}, m={m_fit}', color='r')\n",
    "#plt.plot(Eiso, -24+Eiso*0.5, color='g', label=f'k={-24}, m={0.5}')\n",
    "plt.legend()\n",
    "plt.xlabel(r'$E_\\text{iso}$')\n",
    "plt.ylabel(r'$E_\\text{peak}$')"
   ],
   "id": "1d473b8cb5f7dd1",
   "outputs": [],
   "execution_count": null
  },
  {
   "metadata": {},
   "cell_type": "markdown",
   "source": "I'll check what the results with the scipy model are",
   "id": "4b02f30c3ede30a"
  },
  {
   "metadata": {},
   "cell_type": "code",
   "source": [
    "from scipy.optimize import curve_fit\n",
    "\n",
    "def linear_model(x, k, m):\n",
    "    return k + m * x\n",
    "\n",
    "# Fit the model\n",
    "popt, pcov = curve_fit(linear_model, Eiso, Epeak)\n",
    "k_best, m_best = popt\n",
    "\n",
    "# Get parameter uncertainties\n",
    "param_errors = np.sqrt(np.diag(pcov))\n",
    "print(f\"Best fit: k = {k_best:.3f} ± {param_errors[0]:.3f}\")\n",
    "print(f\"Best fit: m = {m_best:.3f} ± {param_errors[1]:.3f}\")\n",
    "\n",
    "plt.figure()\n",
    "plt.scatter(Eiso, Epeak)\n",
    "plt.plot(Eiso, Eiso*m_best + k_best, color='r', label=f'k={k_best:.3f} ± {param_errors[0]:.3f}, m={m_best:.3f} ± {param_errors[1]:.3f}')\n",
    "plt.legend()\n",
    "plt.xlabel(r'$E_\\text{iso}$')\n",
    "plt.ylabel(r'$E_\\text{peak}$')"
   ],
   "id": "228391f83bc9a2c6",
   "outputs": [],
   "execution_count": null
  },
  {
   "metadata": {},
   "cell_type": "code",
   "source": [
    "correlation_matrix = pcov / np.outer(param_errors, param_errors)\n",
    "print(\"Correlation matrix:\")\n",
    "print(correlation_matrix)\n"
   ],
   "id": "d8eb80a84f78bb5f",
   "outputs": [],
   "execution_count": null
  },
  {
   "metadata": {},
   "cell_type": "code",
   "source": "",
   "id": "ddde33c3e311ee1c",
   "outputs": [],
   "execution_count": null
  }
 ],
 "metadata": {
  "language_info": {
   "name": "python"
  }
 },
 "nbformat": 4,
 "nbformat_minor": 5
}
