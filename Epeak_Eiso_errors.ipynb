{
 "cells": [
  {
   "cell_type": "markdown",
   "id": "20fe4089855e7abd",
   "metadata": {},
   "source": "# $E_{peak} - E_{iso}$ relation with errors"
  },
  {
   "cell_type": "code",
   "id": "f7fc84dc0633fc42",
   "metadata": {
    "ExecuteTime": {
     "end_time": "2025-06-19T15:18:37.631597Z",
     "start_time": "2025-06-19T15:18:37.067140Z"
    }
   },
   "source": [
    "import numpy as np\n",
    "import pandas as pd\n",
    "import matplotlib.pyplot as plt"
   ],
   "outputs": [],
   "execution_count": 1
  },
  {
   "cell_type": "markdown",
   "id": "a920b0a7958b6a14",
   "metadata": {},
   "source": [
    "Correlation between $E_{peak}$ (spectral peak energy from $\\nu F_\\nu - \\nu$ diagram) and $E_{iso}$ (equivalent isotropic energy).\n",
    "Since the scatter plot is logarithmic, the correlation will be a power-law:\n",
    "$$E_{peak} = m \\cdot E_{iso}^q$$\n",
    "where $m$ is the normalization factor and $q$ the slope."
   ]
  },
  {
   "cell_type": "markdown",
   "id": "9591eaa3b76d1727",
   "metadata": {},
   "source": "The correlation can also be done between $E_{peak}$ and $E_\\gamma$, which is the collimation-corrected energy, where $E_\\gamma = E_{iso} \\cdot (1 - cos\\theta_{jet})$. Where $\\theta_{jet}$ is derived from the jet break time $T_{\\text{break}}$, which creates a broken power-law in the flux-time plot when $\\theta_j \\sim \\theta_\\Gamma \\sim 1/\\Gamma$."
  },
  {
   "cell_type": "code",
   "id": "d0c7e841922259f0",
   "metadata": {
    "ExecuteTime": {
     "end_time": "2025-06-19T15:18:40.858957Z",
     "start_time": "2025-06-19T15:18:40.842801Z"
    }
   },
   "source": "df = pd.read_csv('table.csv') # read the data from Ghirlanda et al. 2008",
   "outputs": [],
   "execution_count": 2
  },
  {
   "metadata": {},
   "cell_type": "markdown",
   "source": "In the readed data we can find the peak spectral energy $E_{peak}$ and the isotropic equivalent energy $E_{iso}$. Let's procede to create a scatter plot of both. First, we need to transform the `string` values fo $E_{\\text{iso}}$ to `float`, and convert $\\text{keV}$ to $\\text{ergs} = \\text{grcm}^2\\text{s}^{-2}$ for $E_{\\text{peak}}$.",
   "id": "d22cd6c1db1319fa"
  },
  {
   "metadata": {
    "ExecuteTime": {
     "end_time": "2025-06-19T15:18:43.460485Z",
     "start_time": "2025-06-19T15:18:43.456173Z"
    }
   },
   "cell_type": "code",
   "source": [
    "def get_float(col):\n",
    "    return np.array([float(base) * 10**float(exponent) for val in col for base, exponent in [str(val).split('e')]])"
   ],
   "id": "7d0bdb4f019f593b",
   "outputs": [],
   "execution_count": 3
  },
  {
   "metadata": {},
   "cell_type": "markdown",
   "source": "We can plot the data and then impose a `plt.loglog` scaling.",
   "id": "f80553da9e781884"
  },
  {
   "metadata": {
    "ExecuteTime": {
     "end_time": "2025-06-19T15:20:09.409455Z",
     "start_time": "2025-06-19T15:20:09.326256Z"
    }
   },
   "cell_type": "code",
   "source": [
    "Epeak = np.log10(df['Epeak']) # keV\n",
    "# logEpeak_err = df['Epeak_err'] / (df['Epeak'] * np.log(10)) # correct error propagation\n",
    "\n",
    "Eiso = np.log10(get_float(df['Eiso'])) # ergs\n",
    "# logEiso_err = df['Eiso_err'] / (df['Eiso'] * np.log(10))\n",
    "\n",
    "plt.figure()\n",
    "plt.scatter(Eiso, Epeak)\n",
    "#plt.errorbar(Eiso, Epeak, xerr=Eiso_err, yerr=Epeak_err, fmt='.') # everything in ergs\n",
    "\n",
    "plt.xlabel(r'$log(E_{\\text{iso}})$')\n",
    "plt.ylabel(r'$log(E_{\\text{peak}})$')"
   ],
   "id": "7e2481247592dbf6",
   "outputs": [
    {
     "data": {
      "text/plain": [
       "Text(0, 0.5, '$log(E_{\\\\text{peak}})$')"
      ]
     },
     "execution_count": 9,
     "metadata": {},
     "output_type": "execute_result"
    },
    {
     "data": {
      "text/plain": [
       "<Figure size 640x480 with 1 Axes>"
      ],
      "image/png": "[encoded data removed]"
     },
     "metadata": {},
     "output_type": "display_data"
    }
   ],
   "execution_count": 9
  },
  {
   "metadata": {},
   "cell_type": "markdown",
   "source": [
    "Or we can try to produce logarithmisiced lists of the data and plot those. Error propagation with logarithmic plots! In order to plot the error uncertainty of the magnitudes in both axis, we need to use the correct error propagation equation:\n",
    "$$\\sigma_{\\text{log}} = \\sigma_{\\text{original}} / (\\text{value} \\cdot ln(10))$$"
   ],
   "id": "47d31c2695174b9b"
  },
  {
   "metadata": {},
   "cell_type": "markdown",
   "source": "Next we'll try to find a fit for these GRB properties ($E_{\\text{peak}}$ - $E_{\\text{iso}}$). As explained above, this will be a power-law: $E_{\\text{peak}} = m \\cdot E_{\\text{iso}}^q$. I will use a goodness of fit function (using the $\\chi^2$ method and a parameter space $(m,q)$ to find the 'best fit'.",
   "id": "96b086c0f36d32ba"
  },
  {
   "metadata": {},
   "cell_type": "markdown",
   "source": [
    "For the goodness of fit function we will use the $\\chi^2$ method, following:\n",
    "$$\\chi^2 = \\sum_{i=1} ^N \\frac{\\left(O_i - E_i \\right)^2}{E_i^2}$$,\n",
    "where $E_i$ and $O_i$ are the expected and observed values respectively."
   ],
   "id": "961ecc7fc40420f4"
  },
  {
   "cell_type": "code",
   "id": "6cefc7f51eb4183c",
   "metadata": {},
   "source": [
    "def GoFNoErrors(m,q,x=Eiso, y=Epeak): #TODO: for the moment, this GoF function does not take the errors into account\n",
    "    \"\"\"\n",
    "    Goodness of fit following the chi-squared formula\n",
    "    :param m: normalization factor of power-law\n",
    "    :param q: slope of power-law\n",
    "    :param x: x-values\n",
    "    :param y: y-values\n",
    "    :return: sum of chi-squared error\n",
    "    \"\"\"\n",
    "\n",
    "    model = m*x**q\n",
    "    chi_squared = []\n",
    "    for i in range(len(x)):\n",
    "        val = ((y[i] - model[i])**2)/model[i]\n",
    "        chi_squared.append(val)\n",
    "\n",
    "    return np.sum(chi_squared)"
   ],
   "outputs": [],
   "execution_count": null
  },
  {
   "metadata": {},
   "cell_type": "code",
   "source": [
    "def GoF(m, q, x=Eiso, y=Epeak, x_err=Eiso_err, y_err=Epeak_err):\n",
    "    \"\"\"\n",
    "    Goodness of fit following the chi-squared formula with error propagation\n",
    "    :param m: normalization factor of power-law\n",
    "    :param q: slope of power-law\n",
    "    :param x: x-values\n",
    "    :param y: y-values\n",
    "    :param x_err: uncertainties in x-values\n",
    "    :param y_err: uncertainties in y-values\n",
    "    :return: chi-squared value\n",
    "    \"\"\"\n",
    "\n",
    "    model = m * x**q\n",
    "\n",
    "    # Calculate total uncertainty using error propagation\n",
    "    total_variance = np.zeros_like(x)\n",
    "    total_variance += y_err**2 # add yerr contribution\n",
    "\n",
    "    # add xerr contribution\n",
    "    model_derivative = m*q*x**(q-1)\n",
    "    total_variance += (model_derivative*x_err)**2\n",
    "\n",
    "    # Calculate chi-squared with proper error weighting\n",
    "    chi_squared = np.sum(((y - model)**2) / total_variance)\n",
    "\n",
    "    return chi_squared"
   ],
   "id": "b0dda18583685d13",
   "outputs": [],
   "execution_count": null
  },
  {
   "cell_type": "code",
   "id": "815097095f0344e2",
   "metadata": {},
   "source": [
    "m = np.linspace(10**(-22), 10**(-25), 100) #from the previous scatter plots (passing the keV data to the GoF function), we can infer that the y-axis cut is arround 10 for x=10**9, meaning that the normalization factor should be around 10**-22 and 10**-25\n",
    "q = np.linspace(0.4, 0.6, 100) # if this is the slope of the power-law, it must be positive\n",
    "\n",
    "G = np.zeros([len(m), len(q)])\n",
    "for i in range(len(m)):\n",
    "    for j in range(len(q)):\n",
    "        G[i][j] = GoF(m[i], q[j], x=Eiso, y=df['Epeak'])\n",
    "\n",
    "fig = plt.figure()\n",
    "plt.contourf(m,q,np.log10(G))\n",
    "plt.colorbar(label=r'$log_{10}(\\text{GoF})$')\n",
    "plt.xlabel(r'Parameter $m$')\n",
    "plt.ylabel(r'Parameter $q$')"
   ],
   "outputs": [],
   "execution_count": null
  },
  {
   "metadata": {},
   "cell_type": "markdown",
   "source": "Now we extract the best fit parameters, i.e. where the error squares are the least, and plot the fit over the scatter.",
   "id": "ccac1f4295bd4ff1"
  },
  {
   "metadata": {},
   "cell_type": "code",
   "source": [
    "bestfit = np.argmin(G)\n",
    "m_index, q_index = np.unravel_index(bestfit, G.shape)\n",
    "m_fit, q_fit = m[m_index], q[q_index]\n",
    "#m_fit, q_fit = 10**(-24), 0.5\n",
    "plt.figure()\n",
    "plt.errorbar(Eiso, df['Epeak'], xerr=Eiso_err, yerr=df['Epeak_err'], fmt='.')\n",
    "plt.plot(Eiso, m_fit*(Eiso**q_fit), color='r', label=f'$m={m_fit}$, $q={q_fit}$')\n",
    "\n",
    "plt.loglog()\n",
    "plt.legend(loc='upper left')\n",
    "plt.xlabel('Eiso')\n",
    "plt.ylabel('Epeak')"
   ],
   "id": "1d473b8cb5f7dd1",
   "outputs": [],
   "execution_count": null
  },
  {
   "metadata": {},
   "cell_type": "code",
   "source": "",
   "id": "42ad0407cccd26cb",
   "outputs": [],
   "execution_count": null
  },
  {
   "metadata": {},
   "cell_type": "code",
   "source": "",
   "id": "11ba364da99bba35",
   "outputs": [],
   "execution_count": null
  },
  {
   "metadata": {},
   "cell_type": "code",
   "source": "",
   "id": "b734b3a4901a55fb",
   "outputs": [],
   "execution_count": null
  }
 ],
 "metadata": {
  "language_info": {
   "name": "python"
  }
 },
 "nbformat": 4,
 "nbformat_minor": 5
}
