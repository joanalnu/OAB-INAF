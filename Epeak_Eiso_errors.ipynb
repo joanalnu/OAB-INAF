{
 "cells": [
  {
   "cell_type": "markdown",
   "id": "20fe4089855e7abd",
   "metadata": {},
   "source": [
    "# $E_\\text{peak} - E_\\text{iso}$ correlation, introducing errors\n",
    "\n",
    "In the previous notebook ([Epeak_Eiso_correlation.ipynb](https://github.com/joanalnu/OAB-INAF/blob/main/Epeak_Eiso_correlation.ipynb)), we computed a fit for this relation from the data from $\\textit{Ghirlanda et al. 2008}$. However, the goodness of fit function didn't take into account the error uncertainty in neither axis of the scatter and also didn't account for the fit error. The aim of this notebook is to perform the same fit (between $E_\\text{peak}$ and $E_\\text{iso}$ following the model $y=k+mx$, where $y$ and $x$ are the logarithms of the data), this time accounting for errors (and paying attention to the correct propagation formulas!). We still won't be constraining cosmological parameters."
   ]
  },
  {
   "cell_type": "code",
   "id": "f7fc84dc0633fc42",
   "metadata": {
    "ExecuteTime": {
     "end_time": "2025-07-02T15:06:19.006284Z",
     "start_time": "2025-07-02T15:06:18.463054Z"
    }
   },
   "source": [
    "import numpy as np\n",
    "import pandas as pd\n",
    "import matplotlib.pyplot as plt\n",
    "\n",
    "df = pd.read_csv('table.csv') # read the data from Ghirlanda et al. 2008\n",
    "\n",
    "def get_float(col):\n",
    "    return np.array([float(base) * 10**float(exponent) for val in col for base, exponent in [str(val).split('e')]])"
   ],
   "outputs": [],
   "execution_count": 1
  },
  {
   "metadata": {},
   "cell_type": "markdown",
   "source": [
    "The first step is to take the logarithm of the data, were we will apply the correct formula for the errors, since we can't do\n",
    "$$E\\pm\\sigma_E \\not\\implies \\log_{10}(E)\\pm\\log_{10}(\\sigma_E) \\mathcal{!!}$$.\n",
    "\n",
    "We approach the issue by defining a function $y$ and differentiating it.\n",
    "$$\n",
    "\\begin{align*}\n",
    "    y&= log_{a} x \\quad; \\text{ in our case } a=10 \\\\\n",
    "    a^y &= x \\\\\n",
    "    \\frac{d}{dx} a^y &= \\frac{d}{dx} x \\quad; \\text{ since y = y(x) we use the chain rule} \\\\\n",
    "    ln(a) a^y \\frac{dy}{dx} &= 1 \\quad; a^y = x \\\\\n",
    "    dy &= \\frac{dx}{ln(a)x}\n",
    "\\end{align*}\n",
    "$$\n",
    "Now, by assuming that the errors are small (in comparison with the distance between values), we can write $\\sigma_{E, \\log} = \\sigma_E / (E\\times\\ln10)$."
   ],
   "id": "d22cd6c1db1319fa"
  },
  {
   "metadata": {
    "ExecuteTime": {
     "end_time": "2025-07-02T15:06:27.233261Z",
     "start_time": "2025-07-02T15:06:27.226167Z"
    }
   },
   "cell_type": "code",
   "source": [
    "Epeak = np.log10(df['Epeak']) # keV\n",
    "Epeak_err = df['Epeak_err'] / (df['Epeak'] * np.log(10)) # correct error propagation\n",
    "\n",
    "Eiso = np.log10(get_float(df['Eiso'])) # ergs\n",
    "Eiso_err = df['Eiso_err'] / (df['Eiso'] * np.log(10))"
   ],
   "id": "d0c7e841922259f0",
   "outputs": [],
   "execution_count": 2
  },
  {
   "metadata": {
    "ExecuteTime": {
     "end_time": "2025-07-02T15:06:27.488228Z",
     "start_time": "2025-07-02T15:06:27.351136Z"
    }
   },
   "cell_type": "code",
   "source": [
    "plt.figure()\n",
    "plt.errorbar(Eiso, Epeak, xerr=Eiso_err, yerr=Epeak_err, fmt='.')\n",
    "\n",
    "plt.xlabel(r'$log(E_{\\text{iso}})$')\n",
    "plt.ylabel(r'$log(E_{\\text{peak}})$')"
   ],
   "id": "7e2481247592dbf6",
   "outputs": [
    {
     "data": {
      "text/plain": [
       "Text(0, 0.5, '$log(E_{\\\\text{peak}})$')"
      ]
     },
     "execution_count": 3,
     "metadata": {},
     "output_type": "execute_result"
    },
    {
     "data": {
      "text/plain": [
       "<Figure size 640x480 with 1 Axes>"
      ],
      "image/png": "[encoded data removed]"
     },
     "metadata": {},
     "output_type": "display_data"
    }
   ],
   "execution_count": 3
  },
  {
   "metadata": {},
   "cell_type": "markdown",
   "source": [
    "Next, we'll go ahead with the fitting of the parameters, remember that we want to fit the logarithm of the data to the model $y = k +mx$. But now we also want to take the errors into account. Continuing with the goodness of fit (`GoF`) approach, we will redefine $\\chi^2$ to take the errors into account, i.e. computing a weighted fit.\n",
    "$$\\chi^2 = \\sum_i \\frac{r_i^2}{\\sigma_{r,i}^2}$$\n",
    "where $r_i = O_i + E_i$ are the residuals and $\\sigma_{r,i}^2$ is the variance of the residuals for $i$. So we must find a way of deriving this variance from $\\sigma_{E_\\text{peak}}$ and $\\sigma_{E_\\text{iso}}$. We can do that by using the formula of error propagation theory defined for a function $r(x,y) = y - (k+mx)$:\n",
    "$$\\sigma^2 = \\frac{\\partial r}{\\partial x} \\sigma_x^2 + \\frac{\\partial r}{\\partial y} \\sigma_y^2 + \\frac{\\partial r}{\\partial x} \\frac{\\partial r}{\\partial y} \\text{Cov}(x,y)$$\n",
    "The term with the covariance matrix $(\\text{Cov}(x,y))$, accounts for the correlation between the errors. For now, we'll assume that the errors are _not_ correlated, therefore drop this term $(\\text{Cov}(x,y)=0)$ and proceed partially differentiating.\n",
    "$$\\frac{\\partial r}{\\partial x} = m \\quad \\frac{\\partial r}{\\partial y} = 1$$\n",
    " substituting both\n",
    " $$\\chi^2 = \\sum_i \\frac{(y-(k+mx))^2}{m\\sigma_{x,i}^2 + \\sigma_{y,i}^2}$$\n",
    "\n",
    "\n",
    "\n",
    "Next we'll try to find a fit for these GRB properties ($E_{\\text{peak}}$ - $E_{\\text{iso}}$). As explained above, this will be a power-law: $E_{\\text{peak}} = m \\cdot E_{\\text{iso}}^q$. I will use a goodness of fit function (using the $\\chi^2$ method and a parameter space $(m,q)$ to find the 'best fit'."
   ],
   "id": "96b086c0f36d32ba"
  },
  {
   "metadata": {
    "ExecuteTime": {
     "end_time": "2025-07-02T15:06:37.350558Z",
     "start_time": "2025-07-02T15:06:37.344941Z"
    }
   },
   "cell_type": "code",
   "source": [
    "def gof(m,k,x=Eiso,y=Epeak,x_err=Eiso_err,y_err=Epeak_err):\n",
    "    \"\"\"\n",
    "    Goodness of fit following the chi-squared formula with error propagation.\n",
    "    :param m: slope\n",
    "    :param k: y-axis cut\n",
    "    :param x: x-values\n",
    "    :param y: y-values\n",
    "    :param x_err: uncertainties in x-values\n",
    "    :param y_err: uncertainties in y-values\n",
    "    :return: chi-squared value\n",
    "    \"\"\"\n",
    "\n",
    "    model = m*x + k\n",
    "    total_variance = y_err**2\n",
    "    total_variance += (m*x_err)**2\n",
    "    return np.sum(((y-model)**2)/total_variance)"
   ],
   "id": "1c6733e48e6fe7c3",
   "outputs": [],
   "execution_count": 4
  },
  {
   "metadata": {
    "ExecuteTime": {
     "end_time": "2025-07-02T15:06:38.834794Z",
     "start_time": "2025-07-02T15:06:37.468552Z"
    }
   },
   "cell_type": "code",
   "source": [
    "k = np.linspace(-25.,-20.,100) # inferred from previous scatter plot\n",
    "m = np.linspace(.0,1.,100) # slope of power-law must be positive\n",
    "\n",
    "G = np.zeros([len(m), len(k)])\n",
    "for i in range(len(k)):\n",
    "    for j in range(len(k)):\n",
    "        G[i][j] = gof(m[i],k[j])"
   ],
   "id": "ccca8f0d0b1a68e",
   "outputs": [],
   "execution_count": 5
  },
  {
   "cell_type": "code",
   "id": "815097095f0344e2",
   "metadata": {
    "ExecuteTime": {
     "end_time": "2025-07-02T15:06:39.077748Z",
     "start_time": "2025-07-02T15:06:38.934712Z"
    }
   },
   "source": [
    "# extract best fit parameters\n",
    "best_fit = np.argmin(G)\n",
    "m_index, k_index = np.unravel_index(best_fit, G.shape)\n",
    "m_fit, k_fit = m[m_index], k[k_index]\n",
    "print(m_fit, k_fit)\n",
    "\n",
    "plt.figure()\n",
    "plt.contourf(k,m,np.log10(G))\n",
    "plt.colorbar(label=r'$log_{10}(\\text{GoF})$')\n",
    "plt.xlabel(r'Parameter $k$')\n",
    "plt.ylabel(r'Parameter $m$')\n",
    "plt.scatter(k_fit, m_fit, marker='1', c='r')"
   ],
   "outputs": [
    {
     "name": "stdout",
     "output_type": "stream",
     "text": [
      "0.5151515151515152 -24.7979797979798\n"
     ]
    },
    {
     "data": {
      "text/plain": [
       "<matplotlib.collections.PathCollection at 0x1145838c0>"
      ]
     },
     "execution_count": 6,
     "metadata": {},
     "output_type": "execute_result"
    },
    {
     "data": {
      "text/plain": [
       "<Figure size 640x480 with 2 Axes>"
      ],
      "image/png": "[encoded data removed]"
     },
     "metadata": {},
     "output_type": "display_data"
    }
   ],
   "execution_count": 6
  },
  {
   "metadata": {},
   "cell_type": "markdown",
   "source": "Now we can plot the best fit line over the $E_\\text{peak}$-$E_\\text{iso}$ data.",
   "id": "c05a262344aa771f"
  },
  {
   "metadata": {},
   "cell_type": "code",
   "source": [
    "plt.figure()\n",
    "plt.errorbar(Eiso, Epeak, xerr=Eiso_err, yerr=Epeak_err, fmt='.')\n",
    "plt.plot(Eiso, k_fit+(Eiso*m_fit), color='r', label=f'k = {k_fit}, m = {m_fit}=')\n",
    "\n",
    "plt.legend()\n",
    "plt.xlabel('Eiso')\n",
    "plt.ylabel('Epeak')"
   ],
   "id": "1d473b8cb5f7dd1",
   "outputs": [],
   "execution_count": null
  },
  {
   "metadata": {},
   "cell_type": "code",
   "source": "",
   "id": "11ba364da99bba35",
   "outputs": [],
   "execution_count": null
  }
 ],
 "metadata": {
  "language_info": {
   "name": "python"
  }
 },
 "nbformat": 4,
 "nbformat_minor": 5
}
